{
 "cells": [
  {
   "cell_type": "code",
   "execution_count": 6,
   "metadata": {},
   "outputs": [],
   "source": [
    "import matplotlib.pyplot as plt\n",
    "import pandas as pd\n",
    "from datetime import datetime, timedelta\n",
    "import matplotlib.dates as mdates\n",
    "import moving_average as ma\n",
    "\n",
    "input_csv = input(\"輸入股票號碼\")\n",
    "df = pd.read_csv('data/stocks/'+input_csv+'.csv')\n",
    "features = ['Trading_Volume','Trading_turnover','ROE','ROA','PER']\n"
   ]
  },
  {
   "cell_type": "code",
   "execution_count": 7,
   "metadata": {},
   "outputs": [
    {
     "name": "stderr",
     "output_type": "stream",
     "text": [
      "No artists with labels found to put in legend.  Note that artists whose label start with an underscore are ignored when legend() is called with no argument.\n",
      "No artists with labels found to put in legend.  Note that artists whose label start with an underscore are ignored when legend() is called with no argument.\n",
      "No artists with labels found to put in legend.  Note that artists whose label start with an underscore are ignored when legend() is called with no argument.\n",
      "No artists with labels found to put in legend.  Note that artists whose label start with an underscore are ignored when legend() is called with no argument.\n"
     ]
    }
   ],
   "source": [
    "\n",
    "start_date = datetime(2005, 1, 1)\n",
    "end_date = datetime(2022, 12, 30)\n",
    "date_range = pd.date_range(start=start_date, end=end_date, freq='D')\n",
    "for i, col in enumerate(features):  \n",
    "  if(col == 'Trading_Volume'):\n",
    "    plt.figure(figsize=(18, 8))\n",
    "    ax = plt.gca()\n",
    "    ax.xaxis.set_major_locator(mdates.MonthLocator(interval=6))\n",
    "    plt.bar(df['date'], df[col])\n",
    "  elif(col == 'ROE' or col == 'ROA'):\n",
    "    plt.figure(figsize=(18, 8))\n",
    "    df_no_duplicates = df.drop_duplicates(subset=col)\n",
    "    plt.plot(df_no_duplicates['date'], df_no_duplicates[col])\n",
    "  else:\n",
    "    plt.figure(figsize=(18, 8))\n",
    "    ax = plt.gca()\n",
    "    ax.xaxis.set_major_locator(mdates.MonthLocator(interval=6))\n",
    "    plt.plot(df['date'], df[col])\n",
    "  plt.xlabel('Date')\n",
    "  plt.ylabel(col)\n",
    "  plt.title('Date vs '+col)\n",
    "  plt.legend()\n",
    "  plt.xticks(rotation = 45)\n",
    "\n",
    "plt.show()\n",
    "ma.show_moving_average(input_csv)\n",
    "\n",
    "\n"
   ]
  }
 ],
 "metadata": {
  "kernelspec": {
   "display_name": "base",
   "language": "python",
   "name": "python3"
  },
  "language_info": {
   "codemirror_mode": {
    "name": "ipython",
    "version": 3
   },
   "file_extension": ".py",
   "mimetype": "text/x-python",
   "name": "python",
   "nbconvert_exporter": "python",
   "pygments_lexer": "ipython3",
   "version": "3.9.13"
  }
 },
 "nbformat": 4,
 "nbformat_minor": 2
}
